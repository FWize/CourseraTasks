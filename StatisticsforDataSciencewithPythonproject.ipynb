{
 "cells": [
  {
   "cell_type": "code",
   "execution_count": 1,
   "id": "589da55e-656f-41c7-bf13-6a84ff3fdb70",
   "metadata": {},
   "outputs": [],
   "source": [
    "#!pip install pandas\n",
    "#!pip install numpy\n",
    "#!pip install scipy\n",
    "#!pip install seaborn\n",
    "#!pip install matplotlib\n",
    "#!pip install statsmodels"
   ]
  },
  {
   "cell_type": "code",
   "execution_count": 2,
   "id": "7ccf00b2-ab18-4faf-a90e-2dda4cfef08b",
   "metadata": {},
   "outputs": [],
   "source": [
    "import numpy as np\n",
    "import scipy\n",
    "import pandas as pd\n",
    "import statsmodels.api as sm\n",
    "import seaborn as sns\n",
    "import matplotlib.pyplot as plt "
   ]
  },
  {
   "cell_type": "code",
   "execution_count": 3,
   "id": "39b7f828-235a-4a65-a861-0d511904e2dc",
   "metadata": {},
   "outputs": [
    {
     "data": {
      "text/html": [
       "<div>\n",
       "<style scoped>\n",
       "    .dataframe tbody tr th:only-of-type {\n",
       "        vertical-align: middle;\n",
       "    }\n",
       "\n",
       "    .dataframe tbody tr th {\n",
       "        vertical-align: top;\n",
       "    }\n",
       "\n",
       "    .dataframe thead th {\n",
       "        text-align: right;\n",
       "    }\n",
       "</style>\n",
       "<table border=\"1\" class=\"dataframe\">\n",
       "  <thead>\n",
       "    <tr style=\"text-align: right;\">\n",
       "      <th></th>\n",
       "      <th>Unnamed: 0</th>\n",
       "      <th>CRIM</th>\n",
       "      <th>ZN</th>\n",
       "      <th>INDUS</th>\n",
       "      <th>CHAS</th>\n",
       "      <th>NOX</th>\n",
       "      <th>RM</th>\n",
       "      <th>AGE</th>\n",
       "      <th>DIS</th>\n",
       "      <th>RAD</th>\n",
       "      <th>TAX</th>\n",
       "      <th>PTRATIO</th>\n",
       "      <th>LSTAT</th>\n",
       "      <th>MEDV</th>\n",
       "    </tr>\n",
       "  </thead>\n",
       "  <tbody>\n",
       "    <tr>\n",
       "      <th>0</th>\n",
       "      <td>0</td>\n",
       "      <td>0.00632</td>\n",
       "      <td>18.0</td>\n",
       "      <td>2.31</td>\n",
       "      <td>0.0</td>\n",
       "      <td>0.538</td>\n",
       "      <td>6.575</td>\n",
       "      <td>65.2</td>\n",
       "      <td>4.0900</td>\n",
       "      <td>1.0</td>\n",
       "      <td>296.0</td>\n",
       "      <td>15.3</td>\n",
       "      <td>4.98</td>\n",
       "      <td>24.0</td>\n",
       "    </tr>\n",
       "    <tr>\n",
       "      <th>1</th>\n",
       "      <td>1</td>\n",
       "      <td>0.02731</td>\n",
       "      <td>0.0</td>\n",
       "      <td>7.07</td>\n",
       "      <td>0.0</td>\n",
       "      <td>0.469</td>\n",
       "      <td>6.421</td>\n",
       "      <td>78.9</td>\n",
       "      <td>4.9671</td>\n",
       "      <td>2.0</td>\n",
       "      <td>242.0</td>\n",
       "      <td>17.8</td>\n",
       "      <td>9.14</td>\n",
       "      <td>21.6</td>\n",
       "    </tr>\n",
       "    <tr>\n",
       "      <th>2</th>\n",
       "      <td>2</td>\n",
       "      <td>0.02729</td>\n",
       "      <td>0.0</td>\n",
       "      <td>7.07</td>\n",
       "      <td>0.0</td>\n",
       "      <td>0.469</td>\n",
       "      <td>7.185</td>\n",
       "      <td>61.1</td>\n",
       "      <td>4.9671</td>\n",
       "      <td>2.0</td>\n",
       "      <td>242.0</td>\n",
       "      <td>17.8</td>\n",
       "      <td>4.03</td>\n",
       "      <td>34.7</td>\n",
       "    </tr>\n",
       "    <tr>\n",
       "      <th>3</th>\n",
       "      <td>3</td>\n",
       "      <td>0.03237</td>\n",
       "      <td>0.0</td>\n",
       "      <td>2.18</td>\n",
       "      <td>0.0</td>\n",
       "      <td>0.458</td>\n",
       "      <td>6.998</td>\n",
       "      <td>45.8</td>\n",
       "      <td>6.0622</td>\n",
       "      <td>3.0</td>\n",
       "      <td>222.0</td>\n",
       "      <td>18.7</td>\n",
       "      <td>2.94</td>\n",
       "      <td>33.4</td>\n",
       "    </tr>\n",
       "    <tr>\n",
       "      <th>4</th>\n",
       "      <td>4</td>\n",
       "      <td>0.06905</td>\n",
       "      <td>0.0</td>\n",
       "      <td>2.18</td>\n",
       "      <td>0.0</td>\n",
       "      <td>0.458</td>\n",
       "      <td>7.147</td>\n",
       "      <td>54.2</td>\n",
       "      <td>6.0622</td>\n",
       "      <td>3.0</td>\n",
       "      <td>222.0</td>\n",
       "      <td>18.7</td>\n",
       "      <td>5.33</td>\n",
       "      <td>36.2</td>\n",
       "    </tr>\n",
       "  </tbody>\n",
       "</table>\n",
       "</div>"
      ],
      "text/plain": [
       "   Unnamed: 0     CRIM    ZN  INDUS  CHAS    NOX     RM   AGE     DIS  RAD  \\\n",
       "0           0  0.00632  18.0   2.31   0.0  0.538  6.575  65.2  4.0900  1.0   \n",
       "1           1  0.02731   0.0   7.07   0.0  0.469  6.421  78.9  4.9671  2.0   \n",
       "2           2  0.02729   0.0   7.07   0.0  0.469  7.185  61.1  4.9671  2.0   \n",
       "3           3  0.03237   0.0   2.18   0.0  0.458  6.998  45.8  6.0622  3.0   \n",
       "4           4  0.06905   0.0   2.18   0.0  0.458  7.147  54.2  6.0622  3.0   \n",
       "\n",
       "     TAX  PTRATIO  LSTAT  MEDV  \n",
       "0  296.0     15.3   4.98  24.0  \n",
       "1  242.0     17.8   9.14  21.6  \n",
       "2  242.0     17.8   4.03  34.7  \n",
       "3  222.0     18.7   2.94  33.4  \n",
       "4  222.0     18.7   5.33  36.2  "
      ]
     },
     "execution_count": 3,
     "metadata": {},
     "output_type": "execute_result"
    }
   ],
   "source": [
    "#boston_url = 'https://cf-courses-data.s3.us.cloud-object-storage.appdomain.cloud/IBMDeveloperSkillsNetwork-ST0151EN-SkillsNetwork/labs/boston_housing.csv'\n",
    "#boston_df=pd.read_csv(boston_url)\n",
    "boston_df=pd.read_csv(r'C:\\Users\\WIF4rt\\Downloads\\boston_housing.csv')\n",
    "boston_df.head()"
   ]
  },
  {
   "cell_type": "markdown",
   "id": "c440fc32",
   "metadata": {},
   "source": [
    "# Task 4: Generate Descriptive Statistics and Visualizations"
   ]
  },
  {
   "cell_type": "markdown",
   "id": "f03aa131-29f3-45a8-85b1-af4f5b0e7473",
   "metadata": {},
   "source": [
    "**Plot of the median Value**"
   ]
  },
  {
   "cell_type": "code",
   "execution_count": 4,
   "id": "2de2a994-7782-496f-bd90-db79ac97a042",
   "metadata": {
    "scrolled": true
   },
   "outputs": [
    {
     "data": {
      "image/png": "[encoded data removed]",
      "text/plain": [
       "<Figure size 432x288 with 1 Axes>"
      ]
     },
     "metadata": {
      "needs_background": "light"
     },
     "output_type": "display_data"
    }
   ],
   "source": [
    "ax = sns.boxplot(y = boston_df['MEDV']).set(\n",
    "    title='Median value of owner-occupied homes per town',\n",
    "    ylabel = 'Median value of owner-occupied homes in $1000'\n",
    ")\n",
    "plt.show()"
   ]
  },
  {
   "cell_type": "markdown",
   "id": "e45a8490-9306-4d47-a447-be0d7354e3a1",
   "metadata": {},
   "source": [
    "We can see a wide spread in median house prices between towns "
   ]
  },
  {
   "cell_type": "markdown",
   "id": "c8d117cc",
   "metadata": {},
   "source": [
    "**Comparison of median value for town which do or do not border the Charles River**"
   ]
  },
  {
   "cell_type": "code",
   "execution_count": 5,
   "id": "200b3f46-fdff-4673-be17-648ab6463196",
   "metadata": {},
   "outputs": [
    {
     "data": {
      "image/png": "[encoded data removed]",
      "text/plain": [
       "<Figure size 432x288 with 1 Axes>"
      ]
     },
     "metadata": {
      "needs_background": "light"
     },
     "output_type": "display_data"
    }
   ],
   "source": [
    "ax = sns.barplot(y=boston_df['MEDV'], x=boston_df['CHAS']).set(\n",
    "    title='Median home value vs Charles River access per town',\n",
    "    ylabel = 'Median value of owner-occupied homes in $1000',    \n",
    "    xlabel = 'Charles River bound?'\n",
    ")\n",
    "plt.show()"
   ]
  },
  {
   "cell_type": "markdown",
   "id": "53dce3b3",
   "metadata": {},
   "source": [
    "Charles River bound towns have a larger median value - however is it significant? --> Task 5"
   ]
  },
  {
   "cell_type": "markdown",
   "id": "7b1a2eca",
   "metadata": {},
   "source": [
    "**Comparison of median value for towns with different shares of old buildings**"
   ]
  },
  {
   "cell_type": "code",
   "execution_count": 6,
   "id": "861ef75b-6f0c-405d-bda1-90b059f86453",
   "metadata": {},
   "outputs": [
    {
     "data": {
      "image/png": "[encoded data removed]",
      "text/plain": [
       "<Figure size 432x288 with 1 Axes>"
      ]
     },
     "metadata": {
      "needs_background": "light"
     },
     "output_type": "display_data"
    }
   ],
   "source": [
    "boston_df.loc[(boston_df['AGE'] <= 35), 'age_group'] = '35% or lower'\n",
    "boston_df.loc[(boston_df['AGE'] > 35)&(boston_df['AGE'] < 70), 'age_group'] = 'between 35% and 70%'\n",
    "boston_df.loc[(boston_df['AGE'] >= 70), 'age_group'] = '75% or above'\n",
    "ax = sns.barplot(y=boston_df['MEDV'], x=boston_df['age_group']).set(\n",
    "    title='Median home value vs Share of old buildings per town',\n",
    "    ylabel = 'Median value of owner-occupied homes in $1000',    \n",
    "    xlabel = 'Share of houses built before 1940'\n",
    ")\n",
    "plt.show()"
   ]
  },
  {
   "cell_type": "markdown",
   "id": "73e20234",
   "metadata": {},
   "source": [
    "For towns with higher shares of old buildings, the median home value goes down"
   ]
  },
  {
   "cell_type": "markdown",
   "id": "0f7e133e",
   "metadata": {},
   "source": [
    "**Nox concentration vs non retail business density**"
   ]
  },
  {
   "cell_type": "code",
   "execution_count": 7,
   "id": "e8d74bc5-964c-4eee-9d92-49947e876a83",
   "metadata": {},
   "outputs": [
    {
     "data": {
      "image/png": "[encoded data removed]",
      "text/plain": [
       "<Figure size 432x288 with 1 Axes>"
      ]
     },
     "metadata": {
      "needs_background": "light"
     },
     "output_type": "display_data"
    }
   ],
   "source": [
    "ax = sns.scatterplot(x='INDUS', y='NOX', data=boston_df).set(\n",
    "    title='NOX concentration vs share of non-retail business acres per town',\n",
    "    ylabel = 'NOX concentration (parts per 10 Million)',    \n",
    "    xlabel = 'proportion of non-retail business acres'\n",
    ")\n",
    "plt.show()"
   ]
  },
  {
   "cell_type": "markdown",
   "id": "1f4c16b7",
   "metadata": {},
   "source": [
    "By eye, slight correlation between share of non retail business acres and NOX concentration. Interesting anomaly at 18% - unclear why so many towns have 18% share\n",
    "\n",
    "**Histogram of pupil-teacher ratios by town**"
   ]
  },
  {
   "cell_type": "code",
   "execution_count": 8,
   "id": "c7ee41f6-8e75-48e3-b4b6-0f990239572f",
   "metadata": {},
   "outputs": [
    {
     "data": {
      "image/png": "[encoded data removed]",
      "text/plain": [
       "<Figure size 432x288 with 1 Axes>"
      ]
     },
     "metadata": {
      "needs_background": "light"
     },
     "output_type": "display_data"
    }
   ],
   "source": [
    "ax = sns.distplot(boston_df['PTRATIO'], kde=False).set(\n",
    "    title='pupil-teacher ratio',    \n",
    "    xlabel = 'pupil-teacher ratio by town'\n",
    ")\n",
    "plt.show()"
   ]
  },
  {
   "cell_type": "markdown",
   "id": "1cc0f752",
   "metadata": {},
   "source": [
    "# Task 5: Use the appropriate tests to answer the questions provided."
   ]
  },
  {
   "cell_type": "markdown",
   "id": "32a7864c",
   "metadata": {},
   "source": [
    "**Is there a significant difference in median value of houses bounded by the Charles river or not?**\n",
    "\n",
    "T-Test for independent samples\n",
    "\n",
    "H_0 : Mean is the same for towns bounded by the Charles river and Towns not bounded by Charles river\n",
    "\n",
    "H_1 : There is a different in Mean for both distributions"
   ]
  },
  {
   "cell_type": "code",
   "execution_count": 9,
   "id": "42a1f808",
   "metadata": {},
   "outputs": [
    {
     "data": {
      "text/plain": [
       "Ttest_indResult(statistic=3.996437466090509, pvalue=7.390623170519905e-05)"
      ]
     },
     "execution_count": 9,
     "metadata": {},
     "output_type": "execute_result"
    }
   ],
   "source": [
    "scipy.stats.ttest_ind(boston_df[boston_df['CHAS'] == 1]['MEDV'],\n",
    "                   boston_df[boston_df['CHAS'] == 0]['MEDV'], equal_var = True)"
   ]
  },
  {
   "cell_type": "markdown",
   "id": "f4906bc3-ccdc-4e53-8350-4e02ea53d6b1",
   "metadata": {},
   "source": [
    "The alpha is with 7.39e-05 smaller than the alpha value of 0.05. Thus we reject the null hypothesis and we have a statistical difference in median house prices of towns bounding the river and towns not bounding the river"
   ]
  },
  {
   "cell_type": "markdown",
   "id": "8571728f-53d4-4459-8f3e-941e3b10a684",
   "metadata": {},
   "source": [
    "**Is there a difference in Median values of houses (MEDV) for each proportion of owner occupied units built prior to 1940 (AGE)?**\n",
    "\n",
    "ANOVA\n",
    "\n",
    "H_0 : Mean for all three age groups is the same\n",
    "\n",
    "H_1 : At least one mean differs"
   ]
  },
  {
   "cell_type": "code",
   "execution_count": 10,
   "id": "d8468dde-debe-45b4-ab6d-153124575af5",
   "metadata": {},
   "outputs": [
    {
     "name": "stdout",
     "output_type": "stream",
     "text": [
      "F_Statistic: 36.40764999196599, P-Value: 1.7105011022702984e-15\n"
     ]
    }
   ],
   "source": [
    "young = boston_df[boston_df['age_group'] == '35% or lower']['MEDV']\n",
    "middle = boston_df[boston_df['age_group'] == 'between 35% and 70%']['MEDV']\n",
    "old = boston_df[boston_df['age_group'] == '75% or above']['MEDV']\n",
    "f_statistic, p_value = scipy.stats.f_oneway(young, middle, old)\n",
    "print(\"F_Statistic: {0}, P-Value: {1}\".format(f_statistic,p_value))"
   ]
  },
  {
   "cell_type": "markdown",
   "id": "297458cb-027b-47e0-b348-492bd9b95373",
   "metadata": {},
   "source": [
    "As the P value is below alpha = 0.05, the null hypothesis is rejected and we have evidence that at least one mean differs"
   ]
  },
  {
   "cell_type": "markdown",
   "id": "eb38db05-6005-4493-993e-d023524ed39a",
   "metadata": {},
   "source": [
    "**Can we conclude that there is no relationship between Nitric oxide concentrations and proportion of non-retail business acres per town?**\n",
    "\n",
    "(Pearson Correlation)\n",
    "\n",
    "H_O : There is no correlation between NOX concentration and share of non-retail business acres per town\n",
    "\n",
    "H_1 : There is such correlation"
   ]
  },
  {
   "cell_type": "code",
   "execution_count": 11,
   "id": "58e4f826-0efb-4f4c-8b87-94cce0951fe3",
   "metadata": {},
   "outputs": [
    {
     "name": "stdout",
     "output_type": "stream",
     "text": [
      "P-Value = 7.913361061238693e-98\n"
     ]
    }
   ],
   "source": [
    "statistic, pvalue = scipy.stats.pearsonr(boston_df['INDUS'], boston_df['NOX'])\n",
    "print(\"P-Value = \" + str(pvalue))"
   ]
  },
  {
   "cell_type": "markdown",
   "id": "f12273a8-b456-4cd4-8a9c-9d673ab70d90",
   "metadata": {},
   "source": [
    "Since the p-value (Sig. (2-tailed) < 0.05, we reject the Null hypothesis and conclude that there exists a relationship between proportion of non-retail business acres and NOX concentration."
   ]
  },
  {
   "cell_type": "markdown",
   "id": "00d3f104-7f0b-41d1-b1c4-a62ee3e465ab",
   "metadata": {},
   "source": [
    "**What is the impact of an additional weighted distance to the five Boston employment centres on the median value of owner occupied homes?**\n",
    "\n",
    "(Regression analysis)\n",
    "\n",
    "H_0: There is no correlation between the distance score and the MEDV\n",
    "H_1: There is a correlation between the distance score and the MEDV\n"
   ]
  },
  {
   "cell_type": "code",
   "execution_count": 12,
   "id": "0468ade6-236d-4a83-996e-9d155d2f9dc1",
   "metadata": {},
   "outputs": [
    {
     "name": "stderr",
     "output_type": "stream",
     "text": [
      "C:\\Program Files\\Anaconda3\\lib\\site-packages\\statsmodels\\tsa\\tsatools.py:142: FutureWarning: In a future version of pandas all arguments of concat except for the argument 'objs' will be keyword-only\n",
      "  x = pd.concat(x[::order], 1)\n"
     ]
    },
    {
     "data": {
      "text/html": [
       "<table class=\"simpletable\">\n",
       "<caption>OLS Regression Results</caption>\n",
       "<tr>\n",
       "  <th>Dep. Variable:</th>          <td>MEDV</td>       <th>  R-squared:         </th> <td>   0.062</td>\n",
       "</tr>\n",
       "<tr>\n",
       "  <th>Model:</th>                   <td>OLS</td>       <th>  Adj. R-squared:    </th> <td>   0.061</td>\n",
       "</tr>\n",
       "<tr>\n",
       "  <th>Method:</th>             <td>Least Squares</td>  <th>  F-statistic:       </th> <td>   33.58</td>\n",
       "</tr>\n",
       "<tr>\n",
       "  <th>Date:</th>             <td>Fri, 18 Aug 2023</td> <th>  Prob (F-statistic):</th> <td>1.21e-08</td>\n",
       "</tr>\n",
       "<tr>\n",
       "  <th>Time:</th>                 <td>10:01:42</td>     <th>  Log-Likelihood:    </th> <td> -1823.9</td>\n",
       "</tr>\n",
       "<tr>\n",
       "  <th>No. Observations:</th>      <td>   506</td>      <th>  AIC:               </th> <td>   3652.</td>\n",
       "</tr>\n",
       "<tr>\n",
       "  <th>Df Residuals:</th>          <td>   504</td>      <th>  BIC:               </th> <td>   3660.</td>\n",
       "</tr>\n",
       "<tr>\n",
       "  <th>Df Model:</th>              <td>     1</td>      <th>                     </th>     <td> </td>   \n",
       "</tr>\n",
       "<tr>\n",
       "  <th>Covariance Type:</th>      <td>nonrobust</td>    <th>                     </th>     <td> </td>   \n",
       "</tr>\n",
       "</table>\n",
       "<table class=\"simpletable\">\n",
       "<tr>\n",
       "    <td></td>       <th>coef</th>     <th>std err</th>      <th>t</th>      <th>P>|t|</th>  <th>[0.025</th>    <th>0.975]</th>  \n",
       "</tr>\n",
       "<tr>\n",
       "  <th>const</th> <td>   18.3901</td> <td>    0.817</td> <td>   22.499</td> <td> 0.000</td> <td>   16.784</td> <td>   19.996</td>\n",
       "</tr>\n",
       "<tr>\n",
       "  <th>DIS</th>   <td>    1.0916</td> <td>    0.188</td> <td>    5.795</td> <td> 0.000</td> <td>    0.722</td> <td>    1.462</td>\n",
       "</tr>\n",
       "</table>\n",
       "<table class=\"simpletable\">\n",
       "<tr>\n",
       "  <th>Omnibus:</th>       <td>139.779</td> <th>  Durbin-Watson:     </th> <td>   0.570</td>\n",
       "</tr>\n",
       "<tr>\n",
       "  <th>Prob(Omnibus):</th> <td> 0.000</td>  <th>  Jarque-Bera (JB):  </th> <td> 305.104</td>\n",
       "</tr>\n",
       "<tr>\n",
       "  <th>Skew:</th>          <td> 1.466</td>  <th>  Prob(JB):          </th> <td>5.59e-67</td>\n",
       "</tr>\n",
       "<tr>\n",
       "  <th>Kurtosis:</th>      <td> 5.424</td>  <th>  Cond. No.          </th> <td>    9.32</td>\n",
       "</tr>\n",
       "</table><br/><br/>Notes:<br/>[1] Standard Errors assume that the covariance matrix of the errors is correctly specified."
      ],
      "text/plain": [
       "<class 'statsmodels.iolib.summary.Summary'>\n",
       "\"\"\"\n",
       "                            OLS Regression Results                            \n",
       "==============================================================================\n",
       "Dep. Variable:                   MEDV   R-squared:                       0.062\n",
       "Model:                            OLS   Adj. R-squared:                  0.061\n",
       "Method:                 Least Squares   F-statistic:                     33.58\n",
       "Date:                Fri, 18 Aug 2023   Prob (F-statistic):           1.21e-08\n",
       "Time:                        10:01:42   Log-Likelihood:                -1823.9\n",
       "No. Observations:                 506   AIC:                             3652.\n",
       "Df Residuals:                     504   BIC:                             3660.\n",
       "Df Model:                           1                                         \n",
       "Covariance Type:            nonrobust                                         \n",
       "==============================================================================\n",
       "                 coef    std err          t      P>|t|      [0.025      0.975]\n",
       "------------------------------------------------------------------------------\n",
       "const         18.3901      0.817     22.499      0.000      16.784      19.996\n",
       "DIS            1.0916      0.188      5.795      0.000       0.722       1.462\n",
       "==============================================================================\n",
       "Omnibus:                      139.779   Durbin-Watson:                   0.570\n",
       "Prob(Omnibus):                  0.000   Jarque-Bera (JB):              305.104\n",
       "Skew:                           1.466   Prob(JB):                     5.59e-67\n",
       "Kurtosis:                       5.424   Cond. No.                         9.32\n",
       "==============================================================================\n",
       "\n",
       "Notes:\n",
       "[1] Standard Errors assume that the covariance matrix of the errors is correctly specified.\n",
       "\"\"\""
      ]
     },
     "execution_count": 12,
     "metadata": {},
     "output_type": "execute_result"
    }
   ],
   "source": [
    "## X is the input variables (or independent variables)\n",
    "X = boston_df['DIS']\n",
    "## y is the target/dependent variable\n",
    "y = boston_df['MEDV']\n",
    "## add an intercept (beta_0) to our model\n",
    "X = sm.add_constant(X) \n",
    "\n",
    "model = sm.OLS(y, X).fit()\n",
    "predictions = model.predict(X)\n",
    "\n",
    "# Print out the statistics\n",
    "model.summary()"
   ]
  },
  {
   "cell_type": "markdown",
   "id": "d83909c7-dd09-4b6f-a228-e0036d00277e",
   "metadata": {},
   "source": [
    "**Conclusion**:\n",
    "- p < 0.05 --> There is a correlation between Distance and median Value\n",
    "- The coef for DIS shows, that if the score for the weighted distance increases, the median house price in $1000 increases by 1.09"
   ]
  },
  {
   "cell_type": "code",
   "execution_count": null,
   "id": "68148fa8-779f-47d2-b6b4-d6c8cf12d506",
   "metadata": {},
   "outputs": [],
   "source": []
  }
 ],
 "metadata": {
  "kernelspec": {
   "display_name": "Python [conda env:root] *",
   "language": "python",
   "name": "conda-root-py"
  },
  "language_info": {
   "codemirror_mode": {
    "name": "ipython",
    "version": 3
   },
   "file_extension": ".py",
   "mimetype": "text/x-python",
   "name": "python",
   "nbconvert_exporter": "python",
   "pygments_lexer": "ipython3",
   "version": "3.9.7"
  }
 },
 "nbformat": 4,
 "nbformat_minor": 5
}
